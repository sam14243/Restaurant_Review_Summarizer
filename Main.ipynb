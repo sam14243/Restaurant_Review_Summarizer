{
 "cells": [
  {
   "cell_type": "code",
   "execution_count": 1,
   "metadata": {},
   "outputs": [],
   "source": [
    "from bs4 import BeautifulSoup\n",
    "import requests\n",
    "import numpy as np\n",
    "import time\n",
    "from transformers import RobertaConfig, RobertaModel, RobertaTokenizer\n",
    "import torch\n",
    "import re\n",
    "import string\n",
    "\n",
    "import nltk\n",
    "from nltk.corpus import stopwords, wordnet\n",
    "from nltk.stem import WordNetLemmatizer\n",
    "from nltk.tokenize import word_tokenize"
   ]
  },
  {
   "cell_type": "code",
   "execution_count": 6,
   "metadata": {},
   "outputs": [],
   "source": [
    "rslt = 'https://www.tripadvisor.in/Restaurant_Review-g580418-d26134428-Reviews-Adyar_Ananda_Bhavan_A2B-Harrow_Greater_London_England.html'"
   ]
  },
  {
   "cell_type": "code",
   "execution_count": 32,
   "metadata": {},
   "outputs": [],
   "source": [
    "import random\n",
    "import time\n",
    "import requests\n",
    "from bs4 import BeautifulSoup\n",
    "\n",
    "user_agents = [\n",
    "    'Mozilla/5.0 (Windows NT 10.0; Win64; x64) AppleWebKit/537.36 (KHTML, like Gecko) Chrome/93.0.4577.82 Safari/537.36',\n",
    "    'Mozilla/5.0 (Windows NT 10.0; Win64; x64) AppleWebKit/537.36 (KHTML, like Gecko) Chrome/87.0.4280.141 Safari/537.36 Edge/87.0.664.75',\n",
    "    'Mozilla/5.0 (Windows NT 10.0; Win64; x64) AppleWebKit/537.36 (KHTML, like Gecko) Chrome/70.0.3538.102 Safari/537.36 Edge/18.18363'\n",
    "]\n",
    "\n",
    "def getAndParseURL(url):\n",
    "    session = requests.Session()  # Start a session\n",
    "    headers = {\n",
    "        \"User-Agent\": user_agents[random.randint(0, len(user_agents)-1)],\n",
    "    }\n",
    "    result = session.get(url, headers=headers)  # Use the session to get the page\n",
    "    soup = BeautifulSoup(result.text, 'html.parser')\n",
    "    time.sleep(random.uniform(1.0, 2.0))  # Add delay between requests\n",
    "    return soup"
   ]
  },
  {
   "cell_type": "code",
   "execution_count": 33,
   "metadata": {},
   "outputs": [],
   "source": [
    "result = []\n",
    "\n",
    "html = getAndParseURL(rslt)"
   ]
  },
  {
   "cell_type": "code",
   "execution_count": null,
   "metadata": {},
   "outputs": [],
   "source": [
    "html"
   ]
  },
  {
   "cell_type": "code",
   "execution_count": 35,
   "metadata": {},
   "outputs": [],
   "source": [
    "try:\n",
    "    div_elements = html.find_all(\"div\", {\"class\": \"entry\"})\n",
    "    time.sleep(1)\n",
    "    # print(div_elements)\n",
    "\n",
    "    reviews = [div.find(\"p\", class_=\"partial_entry\").text for div in div_elements]\n",
    "    time.sleep(1)\n",
    "    # print(reviews)\n",
    "    \n",
    "except:\n",
    "    print(\"Except block is called!\")\n",
    "    reviews = [np.nan]\n",
    "\n",
    "result.extend([reviews])"
   ]
  },
  {
   "cell_type": "code",
   "execution_count": 36,
   "metadata": {},
   "outputs": [
    {
     "data": {
      "text/plain": [
       "[['It was our first visit to this restarant after trying many other South Indian restaurants in and around Rayners Lane Eastcote,Harrow, Wembley and Hounsow. The food and decor was acceptable but the service was terrible! It was Sunday evening and not partularly busy and yet...one of the orders for uttampam was 45 minutes!! THe waitress made very lame excuses saying it takes longer to cook but not 45 minutes! She tried to fob us off istead of finding out from kitchen for the delay - ultimately she did tht but it was too late for us as we had waited far too long. what was to be an enjoyable evening, it turned out to be a terrible one! Iam afraid non-of us will be visiting this restaurant again! There are plenty of good restaurants  locally with much better service!More',\n",
       "  \"The food is nice. Tasty. The menu doesnt really explain much so I don't think they are catering for a wide audience.  Food price is fair but price of non-alcoholic drinks is outrageous. The quantity of the meals was good.  Service isn't that good\",\n",
       "  'Ordered lunch for 30 people, they responded to my calls and messages and I discussed with Kalyani about the order until closer to the actual date and then she totally vanished and stopped communicating. I had to order from elsewhere in the last minute. Will...not recommend A2BMore',\n",
       "  'As soon as we saw the new restaurant, we went inside. Table was provided immediately,  but to serve us it took more than 1/2 an hour. After ordering it took another 1/2 hour for the food. Even we thought, we should leave and go to...Saravanabhavan our usual restaurant. The girls were pleasant, but the time it took was unbelievable. Whether we will come back to this restaurant is a question mark.More',\n",
       "  'Absolutely very bad service. When I reached,I asked for table a staff told me there is 3 available but it was a reservation I waited for 10 minutes and another staff came straight away they even didn’t have  any reservations but still got a table....Finally l\\ngot a  table but they didn’t provide any tissues. When l asked she said ‘we don’t provide’!!! They provided the nan before the curry so when we got our curry the nan was super cold.When l took a take a way box we asked for a bag which they charged . This was a bad experience!!!!More',\n",
       "  'Found it way too much sauce and too spicy! Cauliflower was mushy in the Manchurian and paneer was harder than should be in Manchurian.\\nOne thing good is quantity is great!',\n",
       "  'I had a combinations of South Indian breakfast..The food was not bad but also not what we were craving for. But got an exceptional service from Rutvi from beginning to the end, she was very polite and helpful.',\n",
       "  \"I had pathetic experience with Aadyar. I love South Indian food so thought to try a new restaurant.They sopiled our dinner.Service was very bad and food quality doesn't deserve price I paid for.I strongly recommend not to visit the Adyar restaurant.\",\n",
       "  'Great food! But Krinal was the start of the visit!! \\nThank you krnial for making it an amazing experience ❤️❤️',\n",
       "  'First and last time visit. Would not recommend. After a fairly pleasant invite in, we were seated and order taken, which we took the waiters recommendation of dosa & juice drinks. One drink arrived, the other after three reminders 30 mins later. Dosa was miserly...filled. Overall very poor customer service and not value for money. Very disappointing.More',\n",
       "  'I was there with a friend for lunch and don’t think will go again.\\nWe ordered chat and dosa and the waitress brought the dosa first and when asked she said that she forgot without any apologies.\\nDosa was average and sambar wasn’t enough to...last a dosa.\\nThe chat was not tasty and the papri had gone soft. \\nService was poor and no one came to ask how everything was.More',\n",
       "  'I got the Onam special Meal £23.95\\nHonestly it was the worst meal and so expensive\\nStaff need lots of training.',\n",
       "  'Came here recently for dinner for the first time, having heard about the new restaurant. The place has a nice vibe and is decorated nicely inside. We were seated quickly, and service was fast and friendly. Lots of menu options, and all the dishes we...chose tasted great! Prices seemed reasonable for the quality and portion size too. So overall, a good first impression, no complaints!More',\n",
       "  'Food is great, service is quick and helpful. We were served by Rutvika and Rupali who were really kind and explained everything to us. \\n\\nWould recommend',\n",
       "  'Excellent service,  tasty dishes we enjoyed all fresh, hot dishes piping hot and joy to eat. Catered to my allergy requirements.   Nice relaxing Ambience']]"
      ]
     },
     "execution_count": 36,
     "metadata": {},
     "output_type": "execute_result"
    }
   ],
   "source": [
    "result"
   ]
  },
  {
   "cell_type": "code",
   "execution_count": 37,
   "metadata": {},
   "outputs": [],
   "source": [
    "reviews = result[0]"
   ]
  },
  {
   "cell_type": "code",
   "execution_count": 38,
   "metadata": {},
   "outputs": [
    {
     "data": {
      "text/plain": [
       "['It was our first visit to this restarant after trying many other South Indian restaurants in and around Rayners Lane Eastcote,Harrow, Wembley and Hounsow. The food and decor was acceptable but the service was terrible! It was Sunday evening and not partularly busy and yet...one of the orders for uttampam was 45 minutes!! THe waitress made very lame excuses saying it takes longer to cook but not 45 minutes! She tried to fob us off istead of finding out from kitchen for the delay - ultimately she did tht but it was too late for us as we had waited far too long. what was to be an enjoyable evening, it turned out to be a terrible one! Iam afraid non-of us will be visiting this restaurant again! There are plenty of good restaurants  locally with much better service!More',\n",
       " \"The food is nice. Tasty. The menu doesnt really explain much so I don't think they are catering for a wide audience.  Food price is fair but price of non-alcoholic drinks is outrageous. The quantity of the meals was good.  Service isn't that good\",\n",
       " 'Ordered lunch for 30 people, they responded to my calls and messages and I discussed with Kalyani about the order until closer to the actual date and then she totally vanished and stopped communicating. I had to order from elsewhere in the last minute. Will...not recommend A2BMore',\n",
       " 'As soon as we saw the new restaurant, we went inside. Table was provided immediately,  but to serve us it took more than 1/2 an hour. After ordering it took another 1/2 hour for the food. Even we thought, we should leave and go to...Saravanabhavan our usual restaurant. The girls were pleasant, but the time it took was unbelievable. Whether we will come back to this restaurant is a question mark.More',\n",
       " 'Absolutely very bad service. When I reached,I asked for table a staff told me there is 3 available but it was a reservation I waited for 10 minutes and another staff came straight away they even didn’t have  any reservations but still got a table....Finally l\\ngot a  table but they didn’t provide any tissues. When l asked she said ‘we don’t provide’!!! They provided the nan before the curry so when we got our curry the nan was super cold.When l took a take a way box we asked for a bag which they charged . This was a bad experience!!!!More',\n",
       " 'Found it way too much sauce and too spicy! Cauliflower was mushy in the Manchurian and paneer was harder than should be in Manchurian.\\nOne thing good is quantity is great!',\n",
       " 'I had a combinations of South Indian breakfast..The food was not bad but also not what we were craving for. But got an exceptional service from Rutvi from beginning to the end, she was very polite and helpful.',\n",
       " \"I had pathetic experience with Aadyar. I love South Indian food so thought to try a new restaurant.They sopiled our dinner.Service was very bad and food quality doesn't deserve price I paid for.I strongly recommend not to visit the Adyar restaurant.\",\n",
       " 'Great food! But Krinal was the start of the visit!! \\nThank you krnial for making it an amazing experience ❤️❤️',\n",
       " 'First and last time visit. Would not recommend. After a fairly pleasant invite in, we were seated and order taken, which we took the waiters recommendation of dosa & juice drinks. One drink arrived, the other after three reminders 30 mins later. Dosa was miserly...filled. Overall very poor customer service and not value for money. Very disappointing.More',\n",
       " 'I was there with a friend for lunch and don’t think will go again.\\nWe ordered chat and dosa and the waitress brought the dosa first and when asked she said that she forgot without any apologies.\\nDosa was average and sambar wasn’t enough to...last a dosa.\\nThe chat was not tasty and the papri had gone soft. \\nService was poor and no one came to ask how everything was.More',\n",
       " 'I got the Onam special Meal £23.95\\nHonestly it was the worst meal and so expensive\\nStaff need lots of training.',\n",
       " 'Came here recently for dinner for the first time, having heard about the new restaurant. The place has a nice vibe and is decorated nicely inside. We were seated quickly, and service was fast and friendly. Lots of menu options, and all the dishes we...chose tasted great! Prices seemed reasonable for the quality and portion size too. So overall, a good first impression, no complaints!More',\n",
       " 'Food is great, service is quick and helpful. We were served by Rutvika and Rupali who were really kind and explained everything to us. \\n\\nWould recommend',\n",
       " 'Excellent service,  tasty dishes we enjoyed all fresh, hot dishes piping hot and joy to eat. Catered to my allergy requirements.   Nice relaxing Ambience']"
      ]
     },
     "execution_count": 38,
     "metadata": {},
     "output_type": "execute_result"
    }
   ],
   "source": [
    "reviews"
   ]
  },
  {
   "cell_type": "code",
   "execution_count": 41,
   "metadata": {},
   "outputs": [],
   "source": [
    "url_pattern = re.compile(r'https?://\\S+|www\\.\\S+')\n",
    "punctuation_pattern = re.compile('[%s]' % re.escape(string.punctuation))\n",
    "newline_pattern = re.compile('\\n')\n",
    "stop_words = set(stopwords.words('english'))\n",
    "lemmatizer = WordNetLemmatizer()\n",
    "tag_dict = {'J': wordnet.ADJ,'N': wordnet.NOUN,'V': wordnet.VERB,'R': wordnet.ADV}"
   ]
  },
  {
   "cell_type": "code",
   "execution_count": 42,
   "metadata": {},
   "outputs": [],
   "source": [
    "def preprocess_text(text):\n",
    "    text = str(text).lower()\n",
    "    clean_text = re.sub('https?://\\S+|www\\.\\S+', '', text) #URLs\n",
    "    clean_text = re.sub('[%s]' % re.escape(string.punctuation), '', clean_text) #Punctuations\n",
    "    clean_text = re.sub('\\n', '', clean_text) #Backslash n\n",
    "    clean_text = [word for word in clean_text.split(' ') if word not in stop_words] #Remove stopwords\n",
    "    pos_tags = nltk.pos_tag(clean_text)\n",
    "    wordnet_tags = [(token, tag_dict.get(tag[0].upper(), wordnet.NOUN)) for token, tag in pos_tags]\n",
    "    tokens = [lemmatizer.lemmatize(token, tag) for token, tag in wordnet_tags] #Lemmatize\n",
    "    return \" \".join(tokens)"
   ]
  },
  {
   "cell_type": "code",
   "execution_count": 43,
   "metadata": {},
   "outputs": [],
   "source": [
    "clean_review = [preprocess_text(review) for review in reviews]"
   ]
  },
  {
   "cell_type": "code",
   "execution_count": 45,
   "metadata": {},
   "outputs": [
    {
     "data": {
      "text/plain": [
       "['first visit restarant try many south indian restaurant around rayners lane eastcoteharrow wembley hounsow food decor acceptable service terrible sunday even partularly busy yetone order uttampam 45 minute waitress make lame excuse say take long cook 45 minute try fob u istead find kitchen delay  ultimately tht late u wait far long enjoyable evening turn terrible one iam afraid nonof u visit restaurant plenty good restaurant  locally much good servicemore',\n",
       " 'food nice tasty menu doesnt really explain much dont think cater wide audience  food price fair price nonalcoholic drink outrageous quantity meal good  service isnt good',\n",
       " 'order lunch 30 people respond call message discuss kalyani order closer actual date totally vanish stop communicate order elsewhere last minute willnot recommend a2bmore',\n",
       " 'soon saw new restaurant go inside table provide immediately  serve u take 12 hour order take another 12 hour food even think leave go tosaravanabhavan usual restaurant girl pleasant time take unbelievable whether come back restaurant question markmore',\n",
       " 'absolutely bad service reachedi ask table staff tell 3 available reservation wait 10 minute another staff come straight away even didn’t  reservation still get tablefinally lgot  table didn’t provide tissue l ask say ‘we don’t provide’ provide nan curry get curry nan super coldwhen l take take way box ask bag charge  bad experiencemore',\n",
       " 'find way much sauce spicy cauliflower mushy manchurian paneer harder manchurianone thing good quantity great',\n",
       " 'combination south indian breakfastthe food bad also crave get exceptional service rutvi begin end polite helpful',\n",
       " 'pathetic experience aadyar love south indian food think try new restaurantthey sopiled dinnerservice bad food quality doesnt deserve price pay fori strongly recommend visit adyar restaurant',\n",
       " 'great food krinal start visit thank krnial make amazing experience ❤️❤️',\n",
       " 'first last time visit would recommend fairly pleasant invite seat order take take waiter recommendation dosa  juice drink one drink arrive three reminder 30 min later dosa miserlyfilled overall poor customer service value money disappointingmore',\n",
       " 'friend lunch don’t think go againwe order chat dosa waitress bring dosa first ask say forgot without apologiesdosa average sambar wasn’t enough tolast dosathe chat tasty papri go soft service poor one come ask everything wasmore',\n",
       " 'get onam special meal £2395honestly bad meal expensivestaff need lot train',\n",
       " 'come recently dinner first time hear new restaurant place nice vibe decorate nicely inside seat quickly service fast friendly lot menu option dish wechose taste great price seem reasonable quality portion size overall good first impression complaintsmore',\n",
       " 'food great service quick helpful serve rutvika rupali really kind explain everything u would recommend',\n",
       " 'excellent service  tasty dish enjoy fresh hot dish pip hot joy eat cater allergy requirement   nice relaxing ambience']"
      ]
     },
     "execution_count": 45,
     "metadata": {},
     "output_type": "execute_result"
    }
   ],
   "source": [
    "clean_review"
   ]
  },
  {
   "cell_type": "code",
   "execution_count": 46,
   "metadata": {},
   "outputs": [],
   "source": [
    "model_dir = \"RoBERTa_weights\"\n",
    "model_path = f\"{model_dir}/model.pth\"\n",
    "tokenizer_path = f\"{model_dir}/tokenizer\""
   ]
  },
  {
   "cell_type": "code",
   "execution_count": 47,
   "metadata": {},
   "outputs": [],
   "source": [
    "class Roberta(torch.nn.Module):\n",
    "    def __init__(self):\n",
    "        super(Roberta, self).__init__()\n",
    "        self.l1 = RobertaModel.from_pretrained(\"roberta-base\")\n",
    "        self.pre_classifier = torch.nn.Linear(768, 768)\n",
    "        self.dropout = torch.nn.Dropout(0.2)\n",
    "        self.classifier = torch.nn.Linear(768, 5)\n",
    "\n",
    "    def forward(self, input_ids, attention_mask, token_type_ids):\n",
    "        output_1 = self.l1(input_ids=input_ids, attention_mask=attention_mask, token_type_ids=token_type_ids)\n",
    "        hidden_state = output_1[0]\n",
    "        pooler = hidden_state[:, 0]\n",
    "        pooler = self.pre_classifier(pooler)\n",
    "        pooler = torch.nn.ReLU()(pooler)\n",
    "        pooler = self.dropout(pooler)\n",
    "        output = self.classifier(pooler)\n",
    "        return output"
   ]
  },
  {
   "cell_type": "code",
   "execution_count": 48,
   "metadata": {},
   "outputs": [
    {
     "name": "stderr",
     "output_type": "stream",
     "text": [
      "Some weights of RobertaModel were not initialized from the model checkpoint at roberta-base and are newly initialized: ['roberta.pooler.dense.bias', 'roberta.pooler.dense.weight']\n",
      "You should probably TRAIN this model on a down-stream task to be able to use it for predictions and inference.\n"
     ]
    },
    {
     "data": {
      "text/plain": [
       "<All keys matched successfully>"
      ]
     },
     "execution_count": 48,
     "metadata": {},
     "output_type": "execute_result"
    }
   ],
   "source": [
    "model = Roberta()\n",
    "\n",
    "model.load_state_dict(torch.load(model_path))"
   ]
  },
  {
   "cell_type": "code",
   "execution_count": 49,
   "metadata": {},
   "outputs": [],
   "source": [
    "tokenizer = RobertaTokenizer.from_pretrained(tokenizer_path)"
   ]
  },
  {
   "cell_type": "code",
   "execution_count": 50,
   "metadata": {},
   "outputs": [],
   "source": [
    "previews = []\n",
    "nreviews = []"
   ]
  },
  {
   "cell_type": "code",
   "execution_count": 51,
   "metadata": {},
   "outputs": [],
   "source": [
    "for i in range(len(clean_review)):\n",
    "     inputs = tokenizer(clean_review[i], return_tensors=\"pt\", padding=True, truncation=True)\n",
    "     input_ids = inputs['input_ids']\n",
    "     attention_mask = inputs['attention_mask']\n",
    "\n",
    "     with torch.no_grad():\n",
    "          outputs = model(input_ids, attention_mask, None)\n",
    "\n",
    "     probs = torch.nn.functional.softmax(outputs, dim=-1)\n",
    "     predicted_label = torch.argmax(probs, dim=-1).item()\n",
    "     if (predicted_label == 0):\n",
    "          nreviews.append(reviews[i])\n",
    "     else:\n",
    "          previews.append(reviews[i])"
   ]
  },
  {
   "cell_type": "code",
   "execution_count": 52,
   "metadata": {},
   "outputs": [
    {
     "data": {
      "text/plain": [
       "['I had a combinations of South Indian breakfast..The food was not bad but also not what we were craving for. But got an exceptional service from Rutvi from beginning to the end, she was very polite and helpful.',\n",
       " 'Great food! But Krinal was the start of the visit!! \\nThank you krnial for making it an amazing experience ❤️❤️',\n",
       " 'Came here recently for dinner for the first time, having heard about the new restaurant. The place has a nice vibe and is decorated nicely inside. We were seated quickly, and service was fast and friendly. Lots of menu options, and all the dishes we...chose tasted great! Prices seemed reasonable for the quality and portion size too. So overall, a good first impression, no complaints!More',\n",
       " 'Food is great, service is quick and helpful. We were served by Rutvika and Rupali who were really kind and explained everything to us. \\n\\nWould recommend',\n",
       " 'Excellent service,  tasty dishes we enjoyed all fresh, hot dishes piping hot and joy to eat. Catered to my allergy requirements.   Nice relaxing Ambience']"
      ]
     },
     "execution_count": 52,
     "metadata": {},
     "output_type": "execute_result"
    }
   ],
   "source": [
    "previews"
   ]
  },
  {
   "cell_type": "code",
   "execution_count": 53,
   "metadata": {},
   "outputs": [
    {
     "data": {
      "text/plain": [
       "['It was our first visit to this restarant after trying many other South Indian restaurants in and around Rayners Lane Eastcote,Harrow, Wembley and Hounsow. The food and decor was acceptable but the service was terrible! It was Sunday evening and not partularly busy and yet...one of the orders for uttampam was 45 minutes!! THe waitress made very lame excuses saying it takes longer to cook but not 45 minutes! She tried to fob us off istead of finding out from kitchen for the delay - ultimately she did tht but it was too late for us as we had waited far too long. what was to be an enjoyable evening, it turned out to be a terrible one! Iam afraid non-of us will be visiting this restaurant again! There are plenty of good restaurants  locally with much better service!More',\n",
       " \"The food is nice. Tasty. The menu doesnt really explain much so I don't think they are catering for a wide audience.  Food price is fair but price of non-alcoholic drinks is outrageous. The quantity of the meals was good.  Service isn't that good\",\n",
       " 'Ordered lunch for 30 people, they responded to my calls and messages and I discussed with Kalyani about the order until closer to the actual date and then she totally vanished and stopped communicating. I had to order from elsewhere in the last minute. Will...not recommend A2BMore',\n",
       " 'As soon as we saw the new restaurant, we went inside. Table was provided immediately,  but to serve us it took more than 1/2 an hour. After ordering it took another 1/2 hour for the food. Even we thought, we should leave and go to...Saravanabhavan our usual restaurant. The girls were pleasant, but the time it took was unbelievable. Whether we will come back to this restaurant is a question mark.More',\n",
       " 'Absolutely very bad service. When I reached,I asked for table a staff told me there is 3 available but it was a reservation I waited for 10 minutes and another staff came straight away they even didn’t have  any reservations but still got a table....Finally l\\ngot a  table but they didn’t provide any tissues. When l asked she said ‘we don’t provide’!!! They provided the nan before the curry so when we got our curry the nan was super cold.When l took a take a way box we asked for a bag which they charged . This was a bad experience!!!!More',\n",
       " 'Found it way too much sauce and too spicy! Cauliflower was mushy in the Manchurian and paneer was harder than should be in Manchurian.\\nOne thing good is quantity is great!',\n",
       " \"I had pathetic experience with Aadyar. I love South Indian food so thought to try a new restaurant.They sopiled our dinner.Service was very bad and food quality doesn't deserve price I paid for.I strongly recommend not to visit the Adyar restaurant.\",\n",
       " 'First and last time visit. Would not recommend. After a fairly pleasant invite in, we were seated and order taken, which we took the waiters recommendation of dosa & juice drinks. One drink arrived, the other after three reminders 30 mins later. Dosa was miserly...filled. Overall very poor customer service and not value for money. Very disappointing.More',\n",
       " 'I was there with a friend for lunch and don’t think will go again.\\nWe ordered chat and dosa and the waitress brought the dosa first and when asked she said that she forgot without any apologies.\\nDosa was average and sambar wasn’t enough to...last a dosa.\\nThe chat was not tasty and the papri had gone soft. \\nService was poor and no one came to ask how everything was.More',\n",
       " 'I got the Onam special Meal £23.95\\nHonestly it was the worst meal and so expensive\\nStaff need lots of training.']"
      ]
     },
     "execution_count": 53,
     "metadata": {},
     "output_type": "execute_result"
    }
   ],
   "source": [
    "nreviews"
   ]
  },
  {
   "cell_type": "code",
   "execution_count": 54,
   "metadata": {},
   "outputs": [],
   "source": [
    "preview = '. '.join(previews)"
   ]
  },
  {
   "cell_type": "code",
   "execution_count": 56,
   "metadata": {},
   "outputs": [],
   "source": [
    "nreview = '. '.join(nreviews)"
   ]
  },
  {
   "cell_type": "code",
   "execution_count": 59,
   "metadata": {},
   "outputs": [],
   "source": [
    "from summarizer import Summarizer\n",
    "summarizer = Summarizer()"
   ]
  },
  {
   "cell_type": "markdown",
   "metadata": {},
   "source": [
    "### Summary of Negative Reviews"
   ]
  },
  {
   "cell_type": "code",
   "execution_count": null,
   "metadata": {},
   "outputs": [],
   "source": [
    "snr = summarizer(nreview, num_sentences=5)"
   ]
  },
  {
   "cell_type": "code",
   "execution_count": 57,
   "metadata": {},
   "outputs": [
    {
     "data": {
      "text/plain": [
       "3523"
      ]
     },
     "execution_count": 57,
     "metadata": {},
     "output_type": "execute_result"
    }
   ],
   "source": [
    "len(nreview)"
   ]
  },
  {
   "cell_type": "code",
   "execution_count": 66,
   "metadata": {},
   "outputs": [
    {
     "data": {
      "text/plain": [
       "498"
      ]
     },
     "execution_count": 66,
     "metadata": {},
     "output_type": "execute_result"
    }
   ],
   "source": [
    "len(snr)"
   ]
  },
  {
   "cell_type": "code",
   "execution_count": 62,
   "metadata": {},
   "outputs": [
    {
     "data": {
      "text/plain": [
       "'It was our first visit to this restarant after trying many other South Indian restaurants in and around Rayners Lane Eastcote,Harrow, Wembley and Hounsow. When l asked she said ‘we don’t provide’!!! Overall very poor customer service and not value for money. We ordered chat and dosa and the waitress brought the dosa first and when asked she said that she forgot without any apologies. I got the Onam special Meal £23.95\\nHonestly it was the worst meal and so expensive\\nStaff need lots of training.'"
      ]
     },
     "execution_count": 62,
     "metadata": {},
     "output_type": "execute_result"
    }
   ],
   "source": [
    "snr"
   ]
  },
  {
   "cell_type": "markdown",
   "metadata": {},
   "source": [
    "### Summary of Positive Reviews"
   ]
  },
  {
   "cell_type": "code",
   "execution_count": null,
   "metadata": {},
   "outputs": [],
   "source": [
    "spr = summarizer(preview)"
   ]
  },
  {
   "cell_type": "code",
   "execution_count": 58,
   "metadata": {},
   "outputs": [
    {
     "data": {
      "text/plain": [
       "1022"
      ]
     },
     "execution_count": 58,
     "metadata": {},
     "output_type": "execute_result"
    }
   ],
   "source": [
    "len(preview)"
   ]
  },
  {
   "cell_type": "code",
   "execution_count": 67,
   "metadata": {},
   "outputs": [
    {
     "data": {
      "text/plain": [
       "285"
      ]
     },
     "execution_count": 67,
     "metadata": {},
     "output_type": "execute_result"
    }
   ],
   "source": [
    "len(spr)"
   ]
  },
  {
   "cell_type": "code",
   "execution_count": 65,
   "metadata": {},
   "outputs": [
    {
     "data": {
      "text/plain": [
       "'I had a combinations of South Indian breakfast..The food was not bad but also not what we were craving for. But got an exceptional service from Rutvi from beginning to the end, she was very polite and helpful.. Great food! Prices seemed reasonable for the quality and portion size too.'"
      ]
     },
     "execution_count": 65,
     "metadata": {},
     "output_type": "execute_result"
    }
   ],
   "source": [
    "spr"
   ]
  }
 ],
 "metadata": {
  "kernelspec": {
   "display_name": "gputorch",
   "language": "python",
   "name": "python3"
  },
  "language_info": {
   "codemirror_mode": {
    "name": "ipython",
    "version": 3
   },
   "file_extension": ".py",
   "mimetype": "text/x-python",
   "name": "python",
   "nbconvert_exporter": "python",
   "pygments_lexer": "ipython3",
   "version": "3.9.18"
  }
 },
 "nbformat": 4,
 "nbformat_minor": 2
}
