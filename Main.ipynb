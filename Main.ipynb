{
 "cells": [
  {
   "cell_type": "code",
   "execution_count": 36,
   "metadata": {},
   "outputs": [],
   "source": [
    "from bs4 import BeautifulSoup\n",
    "import requests\n",
    "import numpy as np\n",
    "import time\n",
    "from transformers import RobertaConfig, RobertaModel, RobertaTokenizer\n",
    "import torch\n",
    "import re\n",
    "import string\n",
    "\n",
    "import nltk\n",
    "from nltk.corpus import stopwords, wordnet\n",
    "from nltk.stem import WordNetLemmatizer\n",
    "from nltk.tokenize import word_tokenize"
   ]
  },
  {
   "cell_type": "code",
   "execution_count": 7,
   "metadata": {},
   "outputs": [],
   "source": [
    "rslt = 'https://www.tripadvisor.com/Restaurant_Review-g189117-d7989747-Reviews-Delhi_Darbar-Lagos_Faro_District_Algarve.html'"
   ]
  },
  {
   "cell_type": "code",
   "execution_count": 11,
   "metadata": {},
   "outputs": [],
   "source": [
    "def getAndParseURL(url):\n",
    "    result = requests.get(url, headers={\n",
    "        \"User-Agent\": \"Safari/537.36\",\n",
    "    })\n",
    "    # headers={\"User-Agent\":\"Chrome/119.0.6045.105 \"}\n",
    "    soup = BeautifulSoup(result.text, 'html.parser')\n",
    "    return soup"
   ]
  },
  {
   "cell_type": "code",
   "execution_count": 12,
   "metadata": {},
   "outputs": [],
   "source": [
    "result = []\n",
    "\n",
    "html = getAndParseURL(rslt)"
   ]
  },
  {
   "cell_type": "code",
   "execution_count": 13,
   "metadata": {},
   "outputs": [
    {
     "data": {
      "text/plain": [
       "<html><head><title>tripadvisor.com</title><style>#cmsg{animation: A 1.5s;}@keyframes A{0%{opacity:0;}99%{opacity:0;}100%{opacity:1;}}</style></head><body style=\"margin:0\"><p id=\"cmsg\">Please enable JS and disable any ad blocker</p><script data-cfasync=\"false\">var dd={'rt':'c','cid':'AHrlqAAAAAMAvQE30PtI4LEAnTPH9w==','hsh':'2F05D671381DB06BEE4CC52C7A6FD3','t':'fe','s':46694,'e':'2a2bc508b97bff0d9629eec83091a97c20e48a0ad82fedcfbd37c286eb672673','host':'geo.captcha-delivery.com'}</script><script data-cfasync=\"false\" src=\"https://ct.captcha-delivery.com/c.js\"></script></body></html>"
      ]
     },
     "execution_count": 13,
     "metadata": {},
     "output_type": "execute_result"
    }
   ],
   "source": [
    "html"
   ]
  },
  {
   "cell_type": "code",
   "execution_count": 4,
   "metadata": {},
   "outputs": [],
   "source": [
    "try:\n",
    "    div_elements = html.find_all(\"div\", {\"class\": \"entry\"})\n",
    "    time.sleep(1)\n",
    "    # print(div_elements)\n",
    "\n",
    "    reviews = [div.find(\"p\", class_=\"partial_entry\").text for div in div_elements]\n",
    "    time.sleep(1)\n",
    "    # print(reviews)\n",
    "    \n",
    "except:\n",
    "    print(\"Except block is called!\")\n",
    "    reviews = [np.nan]\n",
    "\n",
    "result.extend([reviews])"
   ]
  },
  {
   "cell_type": "code",
   "execution_count": 5,
   "metadata": {},
   "outputs": [],
   "source": [
    "try:\n",
    "    div_elements = html.find_all(\"div\", {\"class\": \"ui_column is-9\"})\n",
    "    time.sleep(1)\n",
    "    # print(div_elements)\n",
    "\n",
    "    ratings = [str(div.find('span', {'class': 'ui_bubble_rating'}).get('class', [''])[-1][7]) for div in div_elements if div.find('span', {'class': 'ui_bubble_rating'}) is not None]\n",
    "    time.sleep(1)\n",
    "    # print(ratings)\n",
    "    \n",
    "except:\n",
    "    print(\"Except block is called!\")\n",
    "    ratings = [np.nan]\n",
    "\n",
    "result.extend([ratings])\n",
    "\n",
    "result = [list(item) for item in zip(*result)]"
   ]
  },
  {
   "cell_type": "code",
   "execution_count": null,
   "metadata": {},
   "outputs": [
    {
     "data": {
      "text/plain": [
       "['We’ve been coming to this restaurant periodically for about 15 years.  The last time we came was about 4/5 years ago and at that time, we said never again because we thought overall quality/price lacked which we confirmed this time around.  Their wine menu is...very overpriced. Nowhere in Rome do we ever pay €35 for a bottle of wine I think they’re taking advantage of tourists who might pay double that in the US when you go out for a meal.   The only reason we came back was because we felt like having a good caccio e Pepe but that wasn’t good, in fact when served it was not even warm and within a few bites cold.  Probably should’ve complained but we didn’t.  Everything else we had was acceptable. Service was fine but again quality/price just aren’t there and there are plenty of other places to eat where we don’t regret our meal.More',\n",
       " 'Truly bizarre experience. I would agree with many of the reviews that if you are English tourists I would avoid. I say this as the American couple behind us seemed to have a lovely albeit contrasting experience to ours.\\n\\nWe made a reservation a month...in advance and arrived on time to the queue outside. We waited and made our way in to a frosty reception from the host.\\n\\nWe were sat next to the toilet and waited for the menus. Finally a waiter came and we tried to order drinks but were told he was only the food waiter. He rushed our order and insisted we had the roast lamb. He then said “and all at the same time yes, yes?” - we sort of nodded in bemusement. \\n\\nWe had ordered antipasti, the cacio e pepe, and the lamb. We had asked for a half portion of lasagne too but told not possible.\\n\\nThe next thing we know everything arrived all at once! The starters, pasta, main all dropped onto our table at once. \\n\\nIt was clear they wanted us in and our, whereby the local Italians were having a leisurely time having each course in turn. Truly bizzarre. We just laughed along. The artichoke antipasta was lovely, the cacio e pepe was ok but far far too rich for a full potion (hence why we asked for half and half pasta), and the roast lamb was fatty and inedible.\\n\\nEveryone else was having a reasonable time with attentive service and it was almost laughable how we were treated. \\n\\nWe actually wanted to leave but got a dessert just to hold the table for a bit longer and make them sweat. \\n\\nPlease please just avoid as a tourist there are 100s of better places that would be so glad for your custom. Better food and better service.More',\n",
       " 'In agreement with many of the many less than rave reviews, manager succeeded in giving a mood busting first impression. He didn’t seem to want to accept that we had a reservation until I insisted in Italian, which prompted him to check and accept us...in - rather than the initial shaking of the head and pointing to the back of a long queue. We sat down, then instructed to change tables, before a 15 minute wait for anything else to happen.  Mind you, there was no food on any of the other tables at that point.  Once ordered, to be fair, everything came quite quickly. Food was pleasant but I would rate as no better than less popular spots. Waiting staff obviously very busy, but fine once we were eating, and things got quieter. They are obviously trying to milk their success by packing as many covers in as possible.  I think it’s not difficult to find more agreeable lunch spots in Rome.More',\n",
       " 'la cacio e pepe, una poesia straordinaria ! If you really want to taste one of  Classic Pasta Dishes of  Roma  at Felice you will taste a Cacio e Pepe to die for !  One of the best Roman Cusine in the City  !',\n",
       " 'We were very excited to try this “local Roman Favorite“ on December 29 But wound up disappointed. The food was OK, although the carbonara was very good. However, the service and attitude of the waiter and restaurant staff will leave a  bad taste in your...mouth. To top it off, our waiter tricked us and upcharged us for our pasta. We ordered three plates of pasta at €16 each to share along with the rest of our meal and he offered to split them for us. We agreed, even though we were 3 couples and didn’t mind sharing. On the bill, he charged us €11 for For each half, an extra six euros for splitting the plates. He was very upset when he only got a five euro tip in reality he shouldn’t have received anything.More',\n",
       " 'I love the plate the savour was amazing ambience was through the roof absolutely amazing  i will come back GRACIe',\n",
       " 'Ok pasta, nothing special. Very bad attitude.\\nWe went as we read that they have one of the best Cacio e Pepe pasta. The plate was ok! Nothing so great, but nice if you like Cacio e Pepe. \\nTheir prices were expensive... And because we...were on a budget and we had a big lunch we weren\\'t so hungry so we ordered only two plates of pasta and a glass of wine. Their waiter was rude and had an attitude and said that we will only have a primo course, no antipasto, no second, no dessert?! His attitude wasn\\'t good at all...\\n(Anyway 38 euro for two plates of pasta and a glass of wine weren\\'t bad and we hold their table only from 7:30 to 8:00, for them to offer it to the next costumers. Anyway we wanted to order the roasted lamb with potatoes but as we saw it, it wasn\\'t worth the 23 euros they priced it, as it had a lot of bones and not enough meat or potatoes.)\\nTheir wine by the glass  just got served somewhere else and brought at the table, not like other good restaurants who serve it in front of you...and it was just a table wine.\\nAlso the waiters were always in a hurry, not caring at all. Overall they had the poorest service and attitude we found in our whole week in Rome. \\nWe prefer to eat less famous pasta or at an opposite\\'s road restaurant and not have their attitude than to eat the \"best cacio e pepe\" of Rome and be treated like unwanted consumers.More',\n",
       " 'Disgraceful \\n\\nWe are 2 professionals, Australians, who have eaten at the best restaurants in Australia - particularly in Melbourne and Sydney - and around the world, including other parts of Italy outside of Rome. We are interested in good food, ambience and pleasant service. Unless...there is a major mismatch with price, I don’t consider it a factor in my restaurant reviews.\\n\\nFelice a Testaccio is - make no mistake - racist. It seats all of the 7pm reservations outside in the cold because we aren’t Italians who eat later, even though the restaurant itself is empty. The manager - I’ll come to him shortly - barks at you when you enquire about turning the heaters on. You would think they’d turn them on 10 minutes before the restaurant opens for comfort on a cold night. But no.\\n\\nThe manager is rude, brusque and unfit to be in his role. If this manager and this restaurant was anywhere in Australia, it wouldn’t last only one day. He is appalling.\\n\\nAs indicated, the atmosphere/ambience is destroyed by the cold space and feeling on the outer, both physically and metaphorically.\\n\\nNow to the food. The artichoke starters were nice. The cacio a pepe was quite good but not as good as they think it is. The lamb dish with potatoes was tasty but also very fatty, with scary bits of offal (not mentioned in the menu description).\\n\\nHow can I give this establishment any more than 1 star?\\n\\nUnfortunately this review will not alter the restaurant’s popularity.\\n\\nOn the next two nights I went to Bottega Tredici and to La Taverna dei Fori Imperiali. Completely different experiences at those two restaurants, where there were pleasant and welcoming staff, good ambience and food.More',\n",
       " 'One the best roman restaurant around. The Cacio and Pepe and the abbacchio (lamb) are amazing. But doesn’t matter what I get I end up liking it.',\n",
       " 'Absolutely lives up to the hype. We came here our first night in time for the cacio e pepe and it was luxurious. Extremely high quality. Also the meatballs were a surprise hit, especially dipping your bread in the sauce! It’s a very charming place,...really enjoyed it. Get the cacio e pepe and you won’t regret it! They come stir it right at the table to melt the cheese!\\n\\nI made a reservation well in advance so I’m not sure how easy it would be to walk up and get a table. But if you really want to eat here make one. Reservations are essential in hitting the places you want if you ask me. We sat on the patio in November and it was still comfortable. They have heat lamps and it’s fun to sit on the street out there!\\n\\nVery helpful staff as well, I was ready to speak Italian (or try lol) and they did speak English to me to help. Most places in Rome are like that but I recommend trying your Italian!More',\n",
       " 'Disappointing experience. We were seated outside in a tent, it was cold and crowded and not cozy at all. The service was rude and stressful. The food was even worse - it was something I could make on a lazy night with an empty fridge.....The waiter came with the bill before we even finished. They charged us for bread we didnt have. Not a place I would recommend even for my worst enemy.More',\n",
       " 'The best food we ate in Rome. Excellent value and a bustling, modern vibe. The service was a little on the unfriendly side though.',\n",
       " 'We order our food for lunch. Waiter makes the uncalled observation that we hadn’t  ordered a starter, expecting us to do so and looking at us haughtily when we refused. He then asks if we wanted bread to which we agreed to. The bread arrives....After a while we ask for some olive oil, at which point he looked at us in disgust, pulling a face. Once out of view we heard him loudly tell his colleagues (in Italian, thinking I was foreign and couldn’t understand): “See?? I wondered howcome they hadn’t yet asked for olive oil yet?! I thought it was strange!” And he kept repeating the same thing over and over again, despite being overheard by both manager and owner. \\n\\nAfter a while he comes back in with the olive oil still saying loudly “strange, strange” as he approaches our table. I ask why it was so strange to ask for olive oil. To which, surprised, but not ashamed, he says: “because now everyone wants bread instead of ordering a starter!” \\n\\nSaying this was rude, is being kind. And I will not comment on the racist comments on non-Italian customers by other members of staff. \\n\\nAl cameriere maleducato: non serve a niente provar ad essere simpatico una volta che sei stato spiacevole.More',\n",
       " 'We very much enjoyed our meal here especially the tiramisu which was outstanding. We ate a lot of great tiramisu but this one was very unique and special. Loved the liquid chocolate on top. Wonderful warm service as well from the staff.',\n",
       " \"Excellent italian food in particular the pasta cacio e pepe (specialty) and the pasta pomodoro. The meatballs and eggplant are very good starters and among the deserts we tried, the black forest with cherries was the best. Tiramisu wasn't good though. Booking is needed.\"]"
      ]
     },
     "metadata": {},
     "output_type": "display_data"
    }
   ],
   "source": [
    "result"
   ]
  },
  {
   "cell_type": "code",
   "execution_count": 47,
   "metadata": {},
   "outputs": [],
   "source": [
    "reviews = result"
   ]
  },
  {
   "cell_type": "code",
   "execution_count": 37,
   "metadata": {},
   "outputs": [],
   "source": [
    "url_pattern = re.compile(r'https?://\\S+|www\\.\\S+')\n",
    "punctuation_pattern = re.compile('[%s]' % re.escape(string.punctuation))\n",
    "newline_pattern = re.compile('\\n')\n",
    "stop_words = set(stopwords.words('english'))\n",
    "lemmatizer = WordNetLemmatizer()\n",
    "tag_dict = {'J': wordnet.ADJ,'N': wordnet.NOUN,'V': wordnet.VERB,'R': wordnet.ADV}"
   ]
  },
  {
   "cell_type": "code",
   "execution_count": 38,
   "metadata": {},
   "outputs": [],
   "source": [
    "def preprocess_text(text):\n",
    "    text = str(text).lower()\n",
    "    clean_text = re.sub('https?://\\S+|www\\.\\S+', '', text) #URLs\n",
    "    clean_text = re.sub('[%s]' % re.escape(string.punctuation), '', clean_text) #Punctuations\n",
    "    clean_text = re.sub('\\n', '', clean_text) #Backslash n\n",
    "    clean_text = [word for word in clean_text.split(' ') if word not in stop_words] #Remove stopwords\n",
    "    # clean_text =\" \".join(clean_text)\n",
    "    # tokens = clean_text.split()\n",
    "    pos_tags = nltk.pos_tag(clean_text)\n",
    "    wordnet_tags = [(token, tag_dict.get(tag[0].upper(), wordnet.NOUN)) for token, tag in pos_tags]\n",
    "    tokens = [lemmatizer.lemmatize(token, tag) for token, tag in wordnet_tags] #Lemmatize\n",
    "    return \" \".join(tokens)"
   ]
  },
  {
   "cell_type": "code",
   "execution_count": 41,
   "metadata": {},
   "outputs": [],
   "source": [
    "clean_review = [preprocess_text(review) for review in reviews]"
   ]
  },
  {
   "cell_type": "code",
   "execution_count": 29,
   "metadata": {},
   "outputs": [],
   "source": [
    "model_dir = \"RoBERTa_weights\"\n",
    "model_path = f\"{model_dir}/model.pth\"\n",
    "tokenizer_path = f\"{model_dir}/tokenizer\""
   ]
  },
  {
   "cell_type": "code",
   "execution_count": 26,
   "metadata": {},
   "outputs": [],
   "source": [
    "class Roberta(torch.nn.Module):\n",
    "    def __init__(self):\n",
    "        super(Roberta, self).__init__()\n",
    "        self.l1 = RobertaModel.from_pretrained(\"roberta-base\")\n",
    "        self.pre_classifier = torch.nn.Linear(768, 768)\n",
    "        self.dropout = torch.nn.Dropout(0.2)\n",
    "        self.classifier = torch.nn.Linear(768, 5)\n",
    "\n",
    "    def forward(self, input_ids, attention_mask, token_type_ids):\n",
    "        output_1 = self.l1(input_ids=input_ids, attention_mask=attention_mask, token_type_ids=token_type_ids)\n",
    "        hidden_state = output_1[0]\n",
    "        pooler = hidden_state[:, 0]\n",
    "        pooler = self.pre_classifier(pooler)\n",
    "        pooler = torch.nn.ReLU()(pooler)\n",
    "        pooler = self.dropout(pooler)\n",
    "        output = self.classifier(pooler)\n",
    "        return output"
   ]
  },
  {
   "cell_type": "code",
   "execution_count": 28,
   "metadata": {},
   "outputs": [
    {
     "name": "stderr",
     "output_type": "stream",
     "text": [
      "Some weights of RobertaModel were not initialized from the model checkpoint at roberta-base and are newly initialized: ['roberta.pooler.dense.bias', 'roberta.pooler.dense.weight']\n",
      "You should probably TRAIN this model on a down-stream task to be able to use it for predictions and inference.\n"
     ]
    },
    {
     "data": {
      "text/plain": [
       "<All keys matched successfully>"
      ]
     },
     "execution_count": 28,
     "metadata": {},
     "output_type": "execute_result"
    }
   ],
   "source": [
    "model = Roberta()\n",
    "\n",
    "model.load_state_dict(torch.load(model_path))"
   ]
  },
  {
   "cell_type": "code",
   "execution_count": 30,
   "metadata": {},
   "outputs": [],
   "source": [
    "tokenizer = RobertaTokenizer.from_pretrained(tokenizer_path)"
   ]
  },
  {
   "cell_type": "code",
   "execution_count": 43,
   "metadata": {},
   "outputs": [],
   "source": [
    "previews = []\n",
    "nreviews = []"
   ]
  },
  {
   "cell_type": "code",
   "execution_count": 44,
   "metadata": {},
   "outputs": [],
   "source": [
    "for review in clean_review:\n",
    "     inputs = tokenizer(review, return_tensors=\"pt\", padding=True, truncation=True)\n",
    "     input_ids = inputs['input_ids']\n",
    "     attention_mask = inputs['attention_mask']\n",
    "\n",
    "     with torch.no_grad():\n",
    "          outputs = model1(input_ids, attention_mask, None)\n",
    "\n",
    "     probs = torch.nn.functional.softmax(outputs, dim=-1)\n",
    "     predicted_label = torch.argmax(probs, dim=-1).item()\n",
    "     if (predicted_label == 0):\n",
    "          nreviews.append(review)\n",
    "     else:\n",
    "          previews.append(review)"
   ]
  },
  {
   "cell_type": "code",
   "execution_count": 45,
   "metadata": {},
   "outputs": [
    {
     "data": {
      "text/plain": [
       "['we’ve come restaurant periodically 15 year  last time come 45 year ago time say never think overall qualityprice lack confirmed time around  wine menu isvery overprice nowhere rome ever pay €35 bottle wine think they’re take advantage tourist might pay double u go meal   reason come back felt like good caccio e pepe wasn’t good fact serve even warm within bite cold  probably should’ve complain didn’t  everything else acceptable service fine qualityprice aren’t plenty place eat don’t regret mealmore',\n",
       " 'truly bizarre experience would agree many review english tourist would avoid say american couple behind u seem lovely albeit contrast experience ourswe make reservation monthin advance arrive time queue outside wait make way frosty reception hostwe sit next toilet wait menu finally waiter come tried order drink tell food waiter rush order insist roast lamb say “and time yes yes”  sort nod bemusement order antipasti cacio e pepe lamb ask half portion lasagne tell possiblethe next thing know everything arrive starter pasta main drop onto table clear want u whereby local italian leisurely time course turn truly bizzarre laugh along artichoke antipasta lovely cacio e pepe ok far far rich full potion hence ask half half pasta roast lamb fatty inedibleeveryone else reasonable time attentive service almost laughable treat actually want leave get dessert hold table bit longer make sweat please please avoid tourist 100 good place would glad custom well food well servicemore',\n",
       " 'agreement many many less rave review manager succeed give mood bust first impression didn’t seem want accept reservation insist italian prompt check accept usin  rather initial shake head point back long queue sat instruct change table 15 minute wait anything else happen  mind food table point  order fair everything come quite quickly food pleasant would rate well less popular spot wait staff obviously busy fine eating thing get quieter obviously try milk success pack many cover possible  think it’s difficult find agreeable lunch spot romemore',\n",
       " 'excited try “local roman favorite“ december 29 wound disappoint food ok although carbonara good however service attitude waiter restaurant staff leave  bad taste yourmouth top waiter trick u upcharged u pasta order three plate pasta €16 share along rest meal offer split u agree even though 3 couple didn’t mind share bill charge u €11 half extra six euro split plate upset get five euro tip reality shouldn’t receive anythingmore',\n",
       " 'ok pasta nothing special bad attitudewe go read one best cacio e pepe pasta plate ok nothing great nice like cacio e pepe price expensive wewere budget big lunch werent hungry order two plate pasta glass wine waiter rude attitude say primo course antipasto second dessert attitude wasnt good allanyway 38 euro two plate pasta glass wine werent bad hold table 730 800 offer next costumer anyway want order roast lamb potato saw wasnt worth 23 euro price lot bone enough meat potatoestheir wine glass  get serve somewhere else bring table like good restaurant serve front youand table winealso waiter always hurry care overall poor service attitude find whole week rome prefer eat less famous pasta opposites road restaurant attitude eat best cacio e pepe rome treat like unwanted consumersmore',\n",
       " 'disgraceful 2 professional australian eat best restaurant australia  particularly melbourne sydney  around world include part italy outside rome interested good food ambience pleasant service unlessthere major mismatch price don’t consider factor restaurant reviewsfelice testaccio  make mistake  racist seat 7pm reservation outside cold aren’t italian eat later even though restaurant empty manager  i’ll come shortly  bark enquire turn heater would think they’d turn 10 minute restaurant open comfort cold night nothe manager rude brusque unfit role manager restaurant anywhere australia wouldn’t last one day appallingas indicated atmosphereambience destroy cold space feeling outer physically metaphoricallynow food artichoke starter nice cacio pepe quite good good think lamb dish potato tasty also fatty scary bit offal mention menu descriptionhow give establishment 1 starunfortunately review alter restaurant’s popularityon next two night go bottega tredici la taverna dei fori imperiali completely different experience two restaurant pleasant welcoming staff good ambience foodmore',\n",
       " 'disappointing experience seat outside tent cold crowd cozy service rude stressful food even bad  something could make lazy night empty fridgethe waiter come bill even finish charge u bread didnt place would recommend even bad enemymore',\n",
       " 'order food lunch waiter make uncalled observation hadn’t  order starter expect u look u haughtily refuse asks want bread agree bread arrivesafter ask olive oil point look u disgust pull face view hear loudly tell colleague italian think foreign couldn’t understand “see wonder howcome hadn’t yet ask olive oil yet think strange” keep repeat thing despite overheard manager owner come back olive oil still say loudly “strange strange” approach table ask strange ask olive oil surprise ashamed say “because everyone want bread instead order starter” say rude kind comment racist comment nonitalian customer member staff al cameriere maleducato non serve niente provar ad essere simpatico una volta che sei stato spiacevolemore']"
      ]
     },
     "execution_count": 45,
     "metadata": {},
     "output_type": "execute_result"
    }
   ],
   "source": [
    "nreviews"
   ]
  },
  {
   "cell_type": "code",
   "execution_count": 46,
   "metadata": {},
   "outputs": [
    {
     "data": {
      "text/plain": [
       "['really want taste one  classic pasta dish  rom  felice taste cacio e pepe die   one best roman cusine city  ',\n",
       " 'love plate savour amaze ambience roof absolutely amazing  come back gracie',\n",
       " 'one best roman restaurant around cacio pepe abbacchio lamb amaze doesn’t matter get end liking',\n",
       " 'absolutely live hype come first night time cacio e pepe luxurious extremely high quality also meatballs surprise hit especially dip bread sauce it’s charm placereally enjoy get cacio e pepe won’t regret come stir right table melt cheesei make reservation well advance i’m sure easy would walk get table really want eat make one reservation essential hit place want ask sit patio november still comfortable heat lamp it’s fun sit street therevery helpful staff well ready speak italian try lol speak english help place rome like recommend try italianmore',\n",
       " 'best food ate rome excellent value bustle modern vibe service little unfriendly side though',\n",
       " 'much enjoy meal especially tiramisu outstanding ate lot great tiramisu one unique special love liquid chocolate top wonderful warm service well staff',\n",
       " 'excellent italian food particular pasta cacio e pepe specialty pasta pomodoro meatball eggplant good starter among desert try black forest cherry best tiramisu wasnt good though booking need']"
      ]
     },
     "execution_count": 46,
     "metadata": {},
     "output_type": "execute_result"
    }
   ],
   "source": [
    "previews"
   ]
  },
  {
   "cell_type": "code",
   "execution_count": null,
   "metadata": {},
   "outputs": [],
   "source": []
  }
 ],
 "metadata": {
  "kernelspec": {
   "display_name": "gputorch",
   "language": "python",
   "name": "python3"
  },
  "language_info": {
   "codemirror_mode": {
    "name": "ipython",
    "version": 3
   },
   "file_extension": ".py",
   "mimetype": "text/x-python",
   "name": "python",
   "nbconvert_exporter": "python",
   "pygments_lexer": "ipython3",
   "version": "3.9.18"
  }
 },
 "nbformat": 4,
 "nbformat_minor": 2
}
