{
  "cells": [
    {
      "cell_type": "code",
      "execution_count": 1,
      "metadata": {
        "id": "WVN8mH3Yp3aY"
      },
      "outputs": [],
      "source": [
        "import pandas as pd\n",
        "from nltk.corpus import stopwords\n",
        "from nltk.stem import PorterStemmer\n",
        "from nltk.tokenize import word_tokenize\n",
        "from sklearn.feature_extraction.text import CountVectorizer, TfidfVectorizer\n",
        "from gensim.models import Word2Vec"
      ]
    },
    {
      "cell_type": "code",
      "execution_count": 2,
      "metadata": {
        "id": "3gT1mmX8p3ab"
      },
      "outputs": [],
      "source": [
        "from sklearn.ensemble import RandomForestClassifier\n",
        "from sklearn.metrics import accuracy_score\n",
        "from sklearn.model_selection import train_test_split"
      ]
    },
    {
      "cell_type": "code",
      "execution_count": 3,
      "metadata": {
        "id": "pYuul1XEp3ab"
      },
      "outputs": [],
      "source": [
        "import spacy"
      ]
    },
    {
      "cell_type": "code",
      "execution_count": 4,
      "metadata": {
        "id": "dCenbxkbp3ad"
      },
      "outputs": [],
      "source": [
        "data = pd.read_csv(\"Restaurant reviews.csv\")"
      ]
    },
    {
      "cell_type": "code",
      "execution_count": 5,
      "metadata": {
        "colab": {
          "base_uri": "https://localhost:8080/"
        },
        "id": "GbQulDu5p3ae",
        "outputId": "1cfcc8a0-2cf9-49d0-ae41-35101ac5c0e4"
      },
      "outputs": [
        {
          "output_type": "stream",
          "name": "stdout",
          "text": [
            "<class 'pandas.core.frame.DataFrame'>\n",
            "RangeIndex: 10000 entries, 0 to 9999\n",
            "Data columns (total 8 columns):\n",
            " #   Column      Non-Null Count  Dtype  \n",
            "---  ------      --------------  -----  \n",
            " 0   Restaurant  10000 non-null  object \n",
            " 1   Reviewer    9962 non-null   object \n",
            " 2   Review      9955 non-null   object \n",
            " 3   Rating      9962 non-null   object \n",
            " 4   Metadata    9962 non-null   object \n",
            " 5   Time        9962 non-null   object \n",
            " 6   Pictures    10000 non-null  int64  \n",
            " 7   7514        1 non-null      float64\n",
            "dtypes: float64(1), int64(1), object(6)\n",
            "memory usage: 625.1+ KB\n"
          ]
        }
      ],
      "source": [
        "data.info()"
      ]
    },
    {
      "cell_type": "code",
      "execution_count": 6,
      "metadata": {
        "id": "EMe0oTFkp3ae"
      },
      "outputs": [],
      "source": [
        "data = data.drop(['Restaurant', 'Reviewer','Metadata', 'Time', 'Pictures', '7514'], axis=1)"
      ]
    },
    {
      "cell_type": "code",
      "execution_count": 7,
      "metadata": {
        "id": "X_uW2hWap3ae"
      },
      "outputs": [],
      "source": [
        "data = data.dropna()"
      ]
    },
    {
      "cell_type": "code",
      "execution_count": 8,
      "metadata": {
        "id": "OCKpZUJDp3af"
      },
      "outputs": [],
      "source": [
        "data = data[data.Rating != 'Like']"
      ]
    },
    {
      "cell_type": "code",
      "execution_count": 9,
      "metadata": {
        "colab": {
          "base_uri": "https://localhost:8080/"
        },
        "id": "9p3Ho8Uup3af",
        "outputId": "6ba280d6-9810-4a4e-f1c2-527bd1c01bf6"
      },
      "outputs": [
        {
          "output_type": "execute_result",
          "data": {
            "text/plain": [
              "array(['5', '4', '1', '3', '2', '3.5', '4.5', '2.5', '1.5'], dtype=object)"
            ]
          },
          "metadata": {},
          "execution_count": 9
        }
      ],
      "source": [
        "data.Rating.unique()"
      ]
    },
    {
      "cell_type": "code",
      "execution_count": 10,
      "metadata": {
        "id": "hBxW3Piqp3af"
      },
      "outputs": [],
      "source": [
        "data['Rating'] = data['Rating'].astype('float64')"
      ]
    },
    {
      "cell_type": "code",
      "execution_count": 11,
      "metadata": {
        "id": "QMdPGMrAp3ag"
      },
      "outputs": [],
      "source": [
        "from bs4 import BeautifulSoup\n",
        "import re\n",
        "import nltk\n",
        "from nltk.corpus import stopwords, wordnet\n",
        "from nltk.stem import WordNetLemmatizer"
      ]
    },
    {
      "cell_type": "code",
      "execution_count": 12,
      "metadata": {
        "colab": {
          "base_uri": "https://localhost:8080/"
        },
        "id": "kG1X9UAWp3ag",
        "outputId": "74146953-e308-4184-fbb7-745fa1b841ad"
      },
      "outputs": [
        {
          "output_type": "stream",
          "name": "stderr",
          "text": [
            "[nltk_data] Downloading package stopwords to /root/nltk_data...\n",
            "[nltk_data]   Unzipping corpora/stopwords.zip.\n",
            "[nltk_data] Downloading package wordnet to /root/nltk_data...\n"
          ]
        },
        {
          "output_type": "execute_result",
          "data": {
            "text/plain": [
              "True"
            ]
          },
          "metadata": {},
          "execution_count": 12
        }
      ],
      "source": [
        "nltk.download('stopwords')\n",
        "nltk.download('wordnet')"
      ]
    },
    {
      "cell_type": "code",
      "execution_count": 13,
      "metadata": {
        "id": "HuyuLQPIp3ag"
      },
      "outputs": [],
      "source": [
        "stop_words = set(stopwords.words('english'))\n",
        "lemmatizer = WordNetLemmatizer()\n",
        "tag_dict = {'J': wordnet.ADJ,'N': wordnet.NOUN,'V': wordnet.VERB,'R': wordnet.ADV}"
      ]
    },
    {
      "cell_type": "code",
      "execution_count": 14,
      "metadata": {
        "colab": {
          "base_uri": "https://localhost:8080/"
        },
        "id": "K7GQN9ysp3ak",
        "outputId": "e8d6e058-4de6-449d-efd1-328abb59df9d"
      },
      "outputs": [
        {
          "output_type": "stream",
          "name": "stdout",
          "text": [
            "371\n",
            "2596\n"
          ]
        }
      ],
      "source": [
        "#URLs present\n",
        "for i in range(9954):\n",
        "    url_pattern = re.compile(r'https?://\\S+|www\\.\\S+')\n",
        "    if re.search(url_pattern, data.iloc[i,0]):\n",
        "        print(i)"
      ]
    },
    {
      "cell_type": "code",
      "execution_count": 15,
      "metadata": {
        "id": "KHmt049Kp3al"
      },
      "outputs": [],
      "source": [
        "import string\n",
        "def preprocess_text(text):\n",
        "    text = str(text).lower()\n",
        "    clean_text = re.sub('https?://\\S+|www\\.\\S+', '', text) #URLs\n",
        "    clean_text = re.sub('[%s]' % re.escape(string.punctuation), '', clean_text) #Punctuations\n",
        "    clean_text = re.sub('\\n', '', clean_text) #Backslash n\n",
        "    clean_text = [word for word in clean_text.split(' ') if word not in stop_words] #Remove stopwords\n",
        "    clean_text=\" \".join(clean_text)\n",
        "    tokens = clean_text.split()\n",
        "    pos_tags = nltk.pos_tag(tokens)\n",
        "    wordnet_tags = [(token, tag_dict.get(tag[0].upper(), wordnet.NOUN)) for token, tag in pos_tags]\n",
        "    tokens = [lemmatizer.lemmatize(token, tag) for token, tag in wordnet_tags] #Lemmatize\n",
        "    return \" \".join(tokens)"
      ]
    },
    {
      "cell_type": "code",
      "source": [
        "import nltk\n",
        "nltk.download('averaged_perceptron_tagger')"
      ],
      "metadata": {
        "colab": {
          "base_uri": "https://localhost:8080/"
        },
        "id": "t6fAECTyrEZ9",
        "outputId": "5915231f-7c81-494a-fe17-b8b89ea1def9"
      },
      "execution_count": 16,
      "outputs": [
        {
          "output_type": "stream",
          "name": "stderr",
          "text": [
            "[nltk_data] Downloading package averaged_perceptron_tagger to\n",
            "[nltk_data]     /root/nltk_data...\n",
            "[nltk_data]   Unzipping taggers/averaged_perceptron_tagger.zip.\n"
          ]
        },
        {
          "output_type": "execute_result",
          "data": {
            "text/plain": [
              "True"
            ]
          },
          "metadata": {},
          "execution_count": 16
        }
      ]
    },
    {
      "cell_type": "code",
      "execution_count": 17,
      "metadata": {
        "id": "rs2BfHfpp3al"
      },
      "outputs": [],
      "source": [
        "data['Clean_Review'] = data['Review'].apply(preprocess_text)"
      ]
    },
    {
      "cell_type": "code",
      "execution_count": 18,
      "metadata": {
        "colab": {
          "base_uri": "https://localhost:8080/",
          "height": 53
        },
        "id": "QfzytDwsp3al",
        "outputId": "0c9cb491-15be-4d26-f160-169ef799580c"
      },
      "outputs": [
        {
          "output_type": "execute_result",
          "data": {
            "text/plain": [
              "'ambience good food quite good saturday lunch cost effective good place sate brunch one also chill friend parentswaiter soumen das really courteous helpful'"
            ],
            "application/vnd.google.colaboratory.intrinsic+json": {
              "type": "string"
            }
          },
          "metadata": {},
          "execution_count": 18
        }
      ],
      "source": [
        "data['Clean_Review'][0]"
      ]
    },
    {
      "cell_type": "code",
      "source": [
        "from transformers import pipeline\n",
        "\n",
        "summarizer = pipeline(\"summarization\", model=\"mabrouk/amazon-review-summarizer-bart\")"
      ],
      "metadata": {
        "id": "-P5x5OzHq4oO"
      },
      "execution_count": 23,
      "outputs": []
    },
    {
      "cell_type": "code",
      "source": [
        "review = data['Review'][50]\n",
        "summarizer(review, min_length = 10, max_length = 20)"
      ],
      "metadata": {
        "colab": {
          "base_uri": "https://localhost:8080/"
        },
        "id": "AaVoz4byrKv2",
        "outputId": "d2ce1d3d-d27e-4c54-cf77-eb71367edef8"
      },
      "execution_count": 68,
      "outputs": [
        {
          "output_type": "execute_result",
          "data": {
            "text/plain": [
              "[{'summary_text': 'Pradeep and shubroto were amazing and friendly'}]"
            ]
          },
          "metadata": {},
          "execution_count": 68
        }
      ]
    },
    {
      "cell_type": "code",
      "source": [
        "review"
      ],
      "metadata": {
        "colab": {
          "base_uri": "https://localhost:8080/",
          "height": 53
        },
        "id": "xF786fHqrkyg",
        "outputId": "d814a0ed-88db-4b42-f2cb-13b92c5ed842"
      },
      "execution_count": 69,
      "outputs": [
        {
          "output_type": "execute_result",
          "data": {
            "text/plain": [
              "'Pradeep and shubroto were amazing and friendly. Service was awesome n food out of the world.must visit for all people out there. Will visit again'"
            ],
            "application/vnd.google.colaboratory.intrinsic+json": {
              "type": "string"
            }
          },
          "metadata": {},
          "execution_count": 69
        }
      ]
    },
    {
      "cell_type": "code",
      "source": [],
      "metadata": {
        "id": "m5pFhpgArmeP"
      },
      "execution_count": 69,
      "outputs": []
    }
  ],
  "metadata": {
    "kernelspec": {
      "display_name": "Python 3",
      "name": "python3"
    },
    "language_info": {
      "codemirror_mode": {
        "name": "ipython",
        "version": 3
      },
      "file_extension": ".py",
      "mimetype": "text/x-python",
      "name": "python",
      "nbconvert_exporter": "python",
      "pygments_lexer": "ipython3",
      "version": "3.9.18"
    },
    "colab": {
      "provenance": [],
      "gpuType": "T4"
    },
    "accelerator": "GPU"
  },
  "nbformat": 4,
  "nbformat_minor": 0
}