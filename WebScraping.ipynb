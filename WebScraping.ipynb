{
 "cells": [
  {
   "cell_type": "code",
   "execution_count": 1,
   "metadata": {},
   "outputs": [],
   "source": [
    "from bs4 import BeautifulSoup\n",
    "import requests\n",
    "import numpy as np\n",
    "import time\n",
    "import string\n",
    "import re\n",
    "import nltk\n",
    "from nltk.corpus import stopwords, wordnet\n",
    "from nltk.stem import WordNetLemmatizer"
   ]
  },
  {
   "cell_type": "code",
   "execution_count": null,
   "metadata": {},
   "outputs": [],
   "source": [
    "nltk.download('stopwords')\n",
    "nltk.download('wordnet')"
   ]
  },
  {
   "cell_type": "code",
   "execution_count": 2,
   "metadata": {},
   "outputs": [],
   "source": [
    "rslt = input(\"Enter a trip advisor url\")"
   ]
  },
  {
   "cell_type": "code",
   "execution_count": 3,
   "metadata": {},
   "outputs": [],
   "source": [
    "def getAndParseURL(url):\n",
    "    result = requests.get(url, headers={\"User-Agent\":\"Chrome/119.0.6045.105 \"})\n",
    "    soup = BeautifulSoup(result.text, 'html.parser')\n",
    "    return soup"
   ]
  },
  {
   "cell_type": "code",
   "execution_count": null,
   "metadata": {},
   "outputs": [],
   "source": [
    "result = []\n",
    "\n",
    "html = getAndParseURL(rslt)\n",
    "\n",
    "try:\n",
    "    div_elements = html.find_all(\"div\", {\"class\": \"entry\"})\n",
    "    time.sleep(1)\n",
    "    # print(div_elements)\n",
    "\n",
    "    reviews = [div.find(\"p\", class_=\"partial_entry\").text for div in div_elements]\n",
    "    time.sleep(1)\n",
    "    # print(reviews)\n",
    "    \n",
    "except:\n",
    "    print(\"Except block is called!\")\n",
    "    reviews = [np.nan]\n",
    "\n",
    "result.extend([reviews])"
   ]
  },
  {
   "cell_type": "code",
   "execution_count": null,
   "metadata": {},
   "outputs": [],
   "source": [
    "try:\n",
    "    div_elements = html.find_all(\"div\", {\"class\": \"ui_column is-9\"})\n",
    "    time.sleep(1)\n",
    "    # print(div_elements)\n",
    "\n",
    "    ratings = [str(div.find('span', {'class': 'ui_bubble_rating'}).get('class', [''])[-1][7]) for div in div_elements if div.find('span', {'class': 'ui_bubble_rating'}) is not None]\n",
    "    time.sleep(1)\n",
    "    # print(ratings)\n",
    "    \n",
    "except:\n",
    "    print(\"Except block is called!\")\n",
    "    ratings = [np.nan]\n",
    "\n",
    "result.extend([ratings])\n",
    "\n",
    "result = [list(item) for item in zip(*result)]"
   ]
  },
  {
   "cell_type": "code",
   "execution_count": null,
   "metadata": {},
   "outputs": [],
   "source": [
    "stop_words = set(stopwords.words('english'))\n",
    "lemmatizer = WordNetLemmatizer()\n",
    "tag_dict = {'J': wordnet.ADJ,'N': wordnet.NOUN,'V': wordnet.VERB,'R': wordnet.ADV}"
   ]
  },
  {
   "cell_type": "code",
   "execution_count": null,
   "metadata": {},
   "outputs": [],
   "source": [
    "def preprocess_text(text):\n",
    "    text = str(text).lower()\n",
    "    clean_text = re.sub('https?://\\S+|www\\.\\S+', '', text) #URLs\n",
    "    clean_text = re.sub('[%s]' % re.escape(string.punctuation), '', clean_text) #Punctuations\n",
    "    clean_text = re.sub('\\n', '', clean_text) #Backslash n\n",
    "    clean_text = [word for word in clean_text.split(' ') if word not in stop_words] #Remove stopwords\n",
    "    clean_text=\" \".join(clean_text)\n",
    "    tokens = clean_text.split()\n",
    "    pos_tags = nltk.pos_tag(tokens)\n",
    "    wordnet_tags = [(token, tag_dict.get(tag[0].upper(), wordnet.NOUN)) for token, tag in pos_tags]\n",
    "    tokens = [lemmatizer.lemmatize(token, tag) for token, tag in wordnet_tags] #Lemmatize\n",
    "    return \" \".join(tokens)"
   ]
  }
 ],
 "metadata": {
  "kernelspec": {
   "display_name": "gputorch",
   "language": "python",
   "name": "python3"
  },
  "language_info": {
   "codemirror_mode": {
    "name": "ipython",
    "version": 3
   },
   "file_extension": ".py",
   "mimetype": "text/x-python",
   "name": "python",
   "nbconvert_exporter": "python",
   "pygments_lexer": "ipython3",
   "version": "3.9.18"
  }
 },
 "nbformat": 4,
 "nbformat_minor": 2
}
