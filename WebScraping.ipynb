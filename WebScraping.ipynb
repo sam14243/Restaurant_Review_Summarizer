{
 "cells": [
  {
   "cell_type": "code",
   "execution_count": 1,
   "metadata": {},
   "outputs": [],
   "source": [
    "from bs4 import BeautifulSoup as bts\n",
    "import requests\n",
    "import numpy as np\n",
    "import time"
   ]
  },
  {
   "cell_type": "code",
   "execution_count": 2,
   "metadata": {},
   "outputs": [],
   "source": [
    "rslt = input(\"Enter a trip advisor url\")"
   ]
  },
  {
   "cell_type": "code",
   "execution_count": 3,
   "metadata": {},
   "outputs": [],
   "source": [
    "def getAndParseURL(url):\n",
    "    result = requests.get(url, headers={\"User-Agent\":\"Chrome/119.0.6045.105 \"})\n",
    "    soup = bts(result.text, 'html.parser')\n",
    "    return soup"
   ]
  },
  {
   "cell_type": "code",
   "execution_count": null,
   "metadata": {},
   "outputs": [],
   "source": [
    "result = []\n",
    "\n",
    "html = getAndParseURL(rslt)\n",
    "\n",
    "try:\n",
    "    div_elements = html.find_all(\"div\", {\"class\": \"entry\"})\n",
    "    time.sleep(1)\n",
    "    # print(div_elements)\n",
    "\n",
    "    reviews = [div.find(\"p\", class_=\"partial_entry\").text for div in div_elements]\n",
    "    time.sleep(1)\n",
    "    # print(reviews)\n",
    "    \n",
    "except:\n",
    "    print(\"Except block is called!\")\n",
    "    reviews = [np.nan]\n",
    "\n",
    "result.extend([reviews])"
   ]
  },
  {
   "cell_type": "code",
   "execution_count": null,
   "metadata": {},
   "outputs": [],
   "source": [
    "try:\n",
    "    div_elements = html.find_all(\"div\", {\"class\": \"ui_column is-9\"})\n",
    "    time.sleep(1)\n",
    "    # print(div_elements)\n",
    "\n",
    "    ratings = [str(div.find('span', {'class': 'ui_bubble_rating'}).get('class', [''])[-1][7]) for div in div_elements if div.find('span', {'class': 'ui_bubble_rating'}) is not None]\n",
    "    time.sleep(1)\n",
    "    # print(ratings)\n",
    "    \n",
    "except:\n",
    "    print(\"Except block is called!\")\n",
    "    ratings = [np.nan]\n",
    "\n",
    "result.extend([ratings])\n",
    "\n",
    "result = [list(item) for item in zip(*result)]"
   ]
  },
  {
   "cell_type": "code",
   "execution_count": null,
   "metadata": {},
   "outputs": [],
   "source": []
  }
 ],
 "metadata": {
  "kernelspec": {
   "display_name": "gputorch",
   "language": "python",
   "name": "python3"
  },
  "language_info": {
   "codemirror_mode": {
    "name": "ipython",
    "version": 3
   },
   "file_extension": ".py",
   "mimetype": "text/x-python",
   "name": "python",
   "nbconvert_exporter": "python",
   "pygments_lexer": "ipython3",
   "version": "3.9.18"
  }
 },
 "nbformat": 4,
 "nbformat_minor": 2
}
